{
  "nbformat": 4,
  "nbformat_minor": 5,
  "metadata": {
    "kernelspec": {
      "display_name": "Python 3 (ipykernel)",
      "language": "python",
      "name": "python3"
    },
    "language_info": {
      "codemirror_mode": {
        "name": "ipython",
        "version": 3
      },
      "file_extension": ".py",
      "mimetype": "text/x-python",
      "name": "python",
      "nbconvert_exporter": "python",
      "pygments_lexer": "ipython3",
      "version": "3.8.6"
    },
    "colab": {
      "name": "imageclassification.ipynb",
      "provenance": [],
      "include_colab_link": true
    }
  },
  "cells": [
    {
      "cell_type": "markdown",
      "metadata": {
        "id": "view-in-github",
        "colab_type": "text"
      },
      "source": [
        "<a href=\"https://colab.research.google.com/github/rachelyayra/object-detectors/blob/main/imageclassification.ipynb\" target=\"_parent\"><img src=\"https://colab.research.google.com/assets/colab-badge.svg\" alt=\"Open In Colab\"/></a>"
      ]
    },
    {
      "cell_type": "code",
      "metadata": {
        "id": "8a7f2bc4",
        "outputId": "b04ac5ac-7f95-4ee4-fe29-7dc731066ae7"
      },
      "source": [
        "import numpy as np\n",
        "import matplotlib.pyplot as plt\n",
        "import os\n",
        "import cv2\n",
        "\n",
        "data_dir = 'C:/Users/Assurance/Downloads/PetImages'\n",
        "labels = ['Dog','Cat']\n",
        "img_size = 50\n",
        "training_data = []\n",
        "\n",
        "\n",
        "def create_training_data():\n",
        "    for label in labels:\n",
        "        path = os.path.join(data_dir,label)\n",
        "        pathlist = os.listdir(path)\n",
        "        class_label = labels.index(label)\n",
        "        print(label)\n",
        "        for img in pathlist:\n",
        "            try:\n",
        "                img_path = os.path.join(path,img)\n",
        "                img_read =cv2.imread(img_path,cv2.IMREAD_GRAYSCALE)\n",
        "                img_resize = cv2.resize(img_read,(img_size,img_size))\n",
        "                training_data.append([img_resize,class_label])\n",
        "            except Exception as e:\n",
        "                pass\n",
        "create_training_data()\n",
        "print(len(training_data))\n",
        "    \n",
        "\n",
        "             "
      ],
      "id": "8a7f2bc4",
      "execution_count": null,
      "outputs": [
        {
          "name": "stdout",
          "output_type": "stream",
          "text": [
            "Dog\n",
            "Cat\n",
            "24946\n"
          ]
        }
      ]
    },
    {
      "cell_type": "code",
      "metadata": {
        "id": "7e93078f"
      },
      "source": [
        "import random\n",
        "random.shuffle(training_data)"
      ],
      "id": "7e93078f",
      "execution_count": null,
      "outputs": []
    },
    {
      "cell_type": "code",
      "metadata": {
        "id": "720344f2",
        "outputId": "31deaead-604c-4109-bbce-dd86e058dd38"
      },
      "source": [
        "X = []\n",
        "y = []\n",
        "\n",
        "for feautures, label in training_data:\n",
        "    X.append(feautures)\n",
        "    y.append(label)\n",
        "\n",
        "X = np.array(X).reshape(-1,img_size,img_size,1)\n",
        "y = np.array(y)\n",
        "print(y)"
      ],
      "id": "720344f2",
      "execution_count": null,
      "outputs": [
        {
          "name": "stdout",
          "output_type": "stream",
          "text": [
            "[0 1 0 ... 1 1 0]\n"
          ]
        }
      ]
    },
    {
      "cell_type": "code",
      "metadata": {
        "id": "24b67401"
      },
      "source": [
        ""
      ],
      "id": "24b67401",
      "execution_count": null,
      "outputs": []
    },
    {
      "cell_type": "code",
      "metadata": {
        "id": "cc2a2d60",
        "outputId": "112163bd-d558-46e1-c87a-3150a8c122b5"
      },
      "source": [
        "import numpy as np\n",
        "import tensorflow as tf\n",
        "from tensorflow import keras\n",
        "from tensorflow.keras.models import Sequential\n",
        "from tensorflow.keras.layers import  Activation, Flatten, Dense, Conv2D, MaxPooling2D\n",
        "\n",
        "\n",
        "X = X/255.0\n",
        "\n",
        "model = Sequential()\n",
        "model.add( Conv2D(64,(3,3), input_shape=X.shape[1:]) )\n",
        "model.add( Activation('relu'))\n",
        "model.add(MaxPooling2D(pool_size=(2,2)))\n",
        "\n",
        "model.add( Conv2D(64,(3,3), input_shape=X.shape[1:]) )\n",
        "model.add( Activation('relu'))\n",
        "model.add(MaxPooling2D(pool_size=(2,2)))\n",
        "\n",
        "model.add(Flatten())\n",
        "\n",
        "model.add(Dense(1))\n",
        "model.add( Activation('sigmoid'))\n",
        "\n",
        "model.compile(\n",
        "loss = 'binary_crossentropy',\n",
        "optimizer = 'adam',\n",
        "metrics = ['accuracy']\n",
        ")\n",
        "\n",
        "model.summary()\n",
        "model.fit(X,y,\n",
        "        batch_size = 30,\n",
        "        epochs = 10,\n",
        "        validation_split= 0.2\n",
        "      )"
      ],
      "id": "cc2a2d60",
      "execution_count": null,
      "outputs": [
        {
          "name": "stdout",
          "output_type": "stream",
          "text": [
            "Model: \"sequential\"\n",
            "_________________________________________________________________\n",
            "Layer (type)                 Output Shape              Param #   \n",
            "=================================================================\n",
            "conv2d (Conv2D)              (None, 48, 48, 64)        640       \n",
            "_________________________________________________________________\n",
            "activation (Activation)      (None, 48, 48, 64)        0         \n",
            "_________________________________________________________________\n",
            "max_pooling2d (MaxPooling2D) (None, 24, 24, 64)        0         \n",
            "_________________________________________________________________\n",
            "conv2d_1 (Conv2D)            (None, 22, 22, 64)        36928     \n",
            "_________________________________________________________________\n",
            "activation_1 (Activation)    (None, 22, 22, 64)        0         \n",
            "_________________________________________________________________\n",
            "max_pooling2d_1 (MaxPooling2 (None, 11, 11, 64)        0         \n",
            "_________________________________________________________________\n",
            "flatten (Flatten)            (None, 7744)              0         \n",
            "_________________________________________________________________\n",
            "dense (Dense)                (None, 1)                 7745      \n",
            "_________________________________________________________________\n",
            "activation_2 (Activation)    (None, 1)                 0         \n",
            "=================================================================\n",
            "Total params: 45,313\n",
            "Trainable params: 45,313\n",
            "Non-trainable params: 0\n",
            "_________________________________________________________________\n",
            "Epoch 1/10\n",
            "666/666 [==============================] - 93s 131ms/step - loss: 0.6130 - accuracy: 0.6573 - val_loss: 0.5383 - val_accuracy: 0.7248\n",
            "Epoch 2/10\n",
            "666/666 [==============================] - 86s 129ms/step - loss: 0.5234 - accuracy: 0.7410 - val_loss: 0.4996 - val_accuracy: 0.7597\n",
            "Epoch 3/10\n",
            "666/666 [==============================] - 84s 126ms/step - loss: 0.4876 - accuracy: 0.7658 - val_loss: 0.4904 - val_accuracy: 0.7687\n",
            "Epoch 4/10\n",
            "666/666 [==============================] - 83s 125ms/step - loss: 0.4615 - accuracy: 0.7834 - val_loss: 0.4652 - val_accuracy: 0.7804\n",
            "Epoch 5/10\n",
            "666/666 [==============================] - 101s 152ms/step - loss: 0.4478 - accuracy: 0.7919 - val_loss: 0.4616 - val_accuracy: 0.7870\n",
            "Epoch 6/10\n",
            "666/666 [==============================] - 83s 125ms/step - loss: 0.4267 - accuracy: 0.8047 - val_loss: 0.4500 - val_accuracy: 0.7906\n",
            "Epoch 7/10\n",
            "666/666 [==============================] - 83s 125ms/step - loss: 0.4096 - accuracy: 0.8128 - val_loss: 0.4437 - val_accuracy: 0.7966\n",
            "Epoch 8/10\n",
            "666/666 [==============================] - 83s 124ms/step - loss: 0.3925 - accuracy: 0.8245 - val_loss: 0.4515 - val_accuracy: 0.7932\n",
            "Epoch 9/10\n",
            "666/666 [==============================] - 83s 124ms/step - loss: 0.3780 - accuracy: 0.8320 - val_loss: 0.4936 - val_accuracy: 0.7687\n",
            "Epoch 10/10\n",
            "666/666 [==============================] - 87s 130ms/step - loss: 0.3629 - accuracy: 0.8398 - val_loss: 0.4394 - val_accuracy: 0.8010\n"
          ]
        },
        {
          "data": {
            "text/plain": [
              "<keras.callbacks.History at 0x249d20bc5b0>"
            ]
          },
          "execution_count": 9,
          "metadata": {},
          "output_type": "execute_result"
        }
      ]
    },
    {
      "cell_type": "code",
      "metadata": {
        "id": "48092c14",
        "outputId": "7abe07ab-1954-4eba-9836-32331a7e13fe"
      },
      "source": [
        "def prepare_img(filepath):\n",
        "    img_read =cv2.imread(filepath,cv2.IMREAD_GRAYSCALE)\n",
        "    img_resize = cv2.resize(img_read,(img_size,img_size))\n",
        "    return img_resize.reshape(-1,img_size,img_size,1)\n",
        "\n",
        "to_be = [prepare_img('tiger.jpg')]\n",
        "prediction = model.predict(to_be)\n",
        "print(labels[int(prediction[0][0])])\n"
      ],
      "id": "48092c14",
      "execution_count": null,
      "outputs": [
        {
          "name": "stdout",
          "output_type": "stream",
          "text": [
            "Cat\n"
          ]
        }
      ]
    },
    {
      "cell_type": "code",
      "metadata": {
        "scrolled": true,
        "id": "0877101b",
        "outputId": "fb57102a-b7a2-4dbf-a67f-d771dd97ef61"
      },
      "source": [
        ""
      ],
      "id": "0877101b",
      "execution_count": null,
      "outputs": [
        {
          "name": "stdout",
          "output_type": "stream",
          "text": [
            "CAT\n"
          ]
        }
      ]
    }
  ]
}