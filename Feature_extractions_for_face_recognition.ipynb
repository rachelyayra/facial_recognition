{
  "nbformat": 4,
  "nbformat_minor": 0,
  "metadata": {
    "colab": {
      "name": "feature extractions.ipynb",
      "provenance": [],
      "collapsed_sections": [],
      "authorship_tag": "ABX9TyMHf8HURm361XZpbUpRAu9E",
      "include_colab_link": true
    },
    "kernelspec": {
      "name": "python3",
      "display_name": "Python 3"
    },
    "language_info": {
      "name": "python"
    }
  },
  "cells": [
    {
      "cell_type": "markdown",
      "metadata": {
        "id": "view-in-github",
        "colab_type": "text"
      },
      "source": [
        "<a href=\"https://colab.research.google.com/github/rachelyayra/object-detectors/blob/main/Feature_extractions_for_face_recognition.ipynb\" target=\"_parent\"><img src=\"https://colab.research.google.com/assets/colab-badge.svg\" alt=\"Open In Colab\"/></a>"
      ]
    },
    {
      "cell_type": "code",
      "metadata": {
        "id": "gdH4_LnWRR3t"
      },
      "source": [
        "pip install deepface"
      ],
      "execution_count": null,
      "outputs": []
    },
    {
      "cell_type": "code",
      "metadata": {
        "colab": {
          "base_uri": "https://localhost:8080/"
        },
        "id": "wm5Rfv2MSHQm",
        "outputId": "47ddeef8-414f-475a-a4e6-9016588e5b98"
      },
      "source": [
        "from google.colab import drive\n",
        "drive.mount('/content/gdrive/')"
      ],
      "execution_count": null,
      "outputs": [
        {
          "output_type": "stream",
          "name": "stdout",
          "text": [
            "Drive already mounted at /content/gdrive/; to attempt to forcibly remount, call drive.mount(\"/content/gdrive/\", force_remount=True).\n"
          ]
        }
      ]
    },
    {
      "cell_type": "code",
      "metadata": {
        "id": "jBkgxzJkShEd"
      },
      "source": [
        "import dlib\n",
        "import cmake\n",
        "import cv2\n",
        "import numpy as np\n",
        "from google.colab.patches import cv2_imshow\n",
        "import pickle\n",
        "from deepface.commons import functions\n",
        "from sklearn.metrics.pairwise import euclidean_distances\n",
        "import os"
      ],
      "execution_count": null,
      "outputs": []
    },
    {
      "cell_type": "code",
      "metadata": {
        "colab": {
          "base_uri": "https://localhost:8080/"
        },
        "id": "8d-6ufr2WI0b",
        "outputId": "029ebfd8-105c-45ca-c461-32c00478a073"
      },
      "source": [
        "#creating a database\n",
        "student_list = []\n",
        "folderpath = \"/content/gdrive/MyDrive/student_database\"\n",
        "listOfpics = os.listdir(folderpath)\n",
        "labels = []\n",
        "#print(listOfpics)\n",
        "for pic in listOfpics:\n",
        "  filepath = os.path.join(folderpath,pic)\n",
        "  #new_pic = cv2.imread(filepath)\n",
        "  student_list.append(filepath)\n",
        "  label = pic[0:pic.index('.')]\n",
        "  labels.append(label)\n",
        "#print(labels)\n",
        "print(labels)"
      ],
      "execution_count": null,
      "outputs": [
        {
          "output_type": "stream",
          "name": "stdout",
          "text": [
            "['Selorm', 'Ten Lee', 'Kwon Soonyoung', 'Lee Jihoon', 'Xu Minghao']\n"
          ]
        }
      ]
    },
    {
      "cell_type": "code",
      "metadata": {
        "id": "Gb3pH63bS49S"
      },
      "source": [
        "e_model = cv2.dnn.readNetFromTorch(\"/content/gdrive/MyDrive/nn4.small2.v1.t7\")\n",
        "target_size = (96,96)\n",
        "#img_path1 = \"/content/gdrive/MyDrive/facepics/ten1.jpg\"\n",
        "img_path2 = \"/content/gdrive/MyDrive/facepics/babypic\"\n"
      ],
      "execution_count": null,
      "outputs": []
    },
    {
      "cell_type": "code",
      "metadata": {
        "id": "ViqHnboIYYcO"
      },
      "source": [
        "#encode\n",
        "#preprocess list\n",
        "student_embedding = []\n",
        "\n",
        "for student in student_list:\n",
        "  img1 = functions.preprocess_face(student,target_size = target_size)\n",
        "  img1_blob = cv2.dnn.blobFromImage(img1[0])\n",
        "  e_model.setInput(img1_blob)\n",
        "  img1_embedded = e_model.forward()\n",
        "  student_embedding.append(img1_embedded)\n"
      ],
      "execution_count": null,
      "outputs": []
    },
    {
      "cell_type": "code",
      "metadata": {
        "colab": {
          "base_uri": "https://localhost:8080/"
        },
        "id": "TcH0NFlnTFUb",
        "outputId": "369b2fa1-75e2-4080-db51-9973e0d874be"
      },
      "source": [
        "#img1 = functions.preprocess_face(img_path1,target_size = target_size)\n",
        "img2 = functions.preprocess_face(img_path2,target_size = target_size)\n",
        "display_img = cv2.imread(img_path2,cv2.IMREAD_COLOR)"
      ],
      "execution_count": null,
      "outputs": [
        {
          "output_type": "stream",
          "name": "stdout",
          "text": [
            "<class 'numpy.ndarray'>\n"
          ]
        }
      ]
    },
    {
      "cell_type": "code",
      "metadata": {
        "id": "lUfp-wX1nMIO"
      },
      "source": [
        "def rect_to_bb(rect):\n",
        "    # take a bounding predicted by dlib and convert it\n",
        "    # to the format (x, y, w, h) as we would normally do\n",
        "    # with OpenCV\n",
        "    xmin = rect.left()\n",
        "    ymin = rect.top()\n",
        "    w = rect.right() - xmin\n",
        "    h = rect.bottom() - ymin\n",
        "\n",
        "    # return a tuple of (x, y, w, h)\n",
        "    return (xmin, ymin, w, h)"
      ],
      "execution_count": null,
      "outputs": []
    },
    {
      "cell_type": "code",
      "metadata": {
        "id": "Am2G9unwm38l"
      },
      "source": [
        ""
      ],
      "execution_count": null,
      "outputs": []
    },
    {
      "cell_type": "code",
      "metadata": {
        "id": "P5HWjbQDm5xj"
      },
      "source": [
        "#face_rect ,d_img,xs,ys = detectFace(display_img)"
      ],
      "execution_count": null,
      "outputs": []
    },
    {
      "cell_type": "code",
      "metadata": {
        "colab": {
          "base_uri": "https://localhost:8080/"
        },
        "id": "6my9tjIeTKNP",
        "outputId": "bd21b102-a2fc-427a-ffff-e54e02ed61b8"
      },
      "source": [
        "#img1_blob = cv2.dnn.blobFromImage(img1[0])\n",
        "img2_blob = cv2.dnn.blobFromImage(img2[0])\n",
        "print(img1_blob.shape)"
      ],
      "execution_count": null,
      "outputs": [
        {
          "output_type": "stream",
          "name": "stdout",
          "text": [
            "(1, 3, 96, 96)\n"
          ]
        }
      ]
    },
    {
      "cell_type": "code",
      "metadata": {
        "id": "UtEevcv2TKHx"
      },
      "source": [
        "#e_model.setInput(img1_blob)\n",
        "#img1_embedded = e_model.forward()\n",
        "#print(img1_embedded)\n",
        "e_model.setInput(img2_blob)\n",
        "img2_embedded = e_model.forward()\n",
        "#print(img2_embedded)"
      ],
      "execution_count": null,
      "outputs": []
    },
    {
      "cell_type": "code",
      "metadata": {
        "id": "5Bkal7mLUNxk"
      },
      "source": [
        "from sklearn.metrics.pairwise import euclidean_distances\n",
        "dist_list = []\n",
        "for i in student_embedding:\n",
        "  distance = euclidean_distances(i,img2_embedded)[0,0]\n",
        "  dist_list.append(distance)\n",
        "  "
      ],
      "execution_count": null,
      "outputs": []
    },
    {
      "cell_type": "code",
      "metadata": {
        "colab": {
          "base_uri": "https://localhost:8080/"
        },
        "id": "DRWf3FVMeMJr",
        "outputId": "66b48803-8cee-4369-8033-85c2c79838fc"
      },
      "source": [
        "#print(dist_list)\n",
        "threshold = 0.60 \n",
        "bool_list = []\n",
        "for i in dist_list:\n",
        "  if i > 0.60:\n",
        "    bol = True\n",
        "    bool_list.append(bol)\n",
        "  else:\n",
        "    bol = False\n",
        "    bool_list.append(bol)\n",
        "#print(bool_list)\n",
        "  \n",
        "if (all(bool_list)):\n",
        "  print('no')\n",
        "else:\n",
        "  reg_face = labels[dist_list.index(min(dist_list))]\n",
        "  print(reg_face)"
      ],
      "execution_count": null,
      "outputs": [
        {
          "output_type": "stream",
          "name": "stdout",
          "text": [
            "Selorm\n"
          ]
        }
      ]
    },
    {
      "cell_type": "code",
      "metadata": {
        "id": "dPmxQBvWngMw"
      },
      "source": [
        "def detectFace(image,regface):\n",
        "  detector = dlib.get_frontal_face_detector()\n",
        "  face = detector(image)\n",
        "  numberOfFaces = len(face) \n",
        "  listOfbb = []\n",
        "  for rect in face:\n",
        "    listOfbb.append(rect_to_bb(rect))\n",
        "\n",
        "  color = (255, 0, 0)\n",
        "  x_values = []\n",
        "  y_values = []\n",
        "  for num in listOfbb:\n",
        "    #print(num)\n",
        "    img = cv2.rectangle(image,num,color)\n",
        "    im_with_text = cv2.putText(image, regface ,  num[0:2], cv2.FONT_HERSHEY_COMPLEX, 1, color, 1)\n",
        "    x_values.append(num[0]) \n",
        "    y_values.append(num[1])\n",
        "  #print(\"There are \"+str(numberOfFaces)+ \" faces\")\n",
        "  return face ,im_with_text,x_values,y_values"
      ],
      "execution_count": null,
      "outputs": []
    },
    {
      "cell_type": "code",
      "metadata": {
        "id": "3__Gp9mIoHAY"
      },
      "source": [
        "face_rect ,n_img,xs,ys = detectFace(display_img,reg_face)\n",
        "cv2_imshow(display_img)"
      ],
      "execution_count": null,
      "outputs": []
    }
  ]
}